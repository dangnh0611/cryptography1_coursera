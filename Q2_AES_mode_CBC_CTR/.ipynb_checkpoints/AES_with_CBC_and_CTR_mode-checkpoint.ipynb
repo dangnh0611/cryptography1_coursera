{
 "cells": [
  {
   "cell_type": "markdown",
   "metadata": {},
   "source": [
    "##### Nguyễn Hồng Đăng 20160988"
   ]
  },
  {
   "cell_type": "code",
   "execution_count": 1,
   "metadata": {},
   "outputs": [],
   "source": [
    "#!/usr/bin/env python3\n",
    "\n",
    "from Crypto.Cipher import AES\n",
    "from os import urandom"
   ]
  },
  {
   "cell_type": "markdown",
   "metadata": {},
   "source": [
    "### I. Cài đặt hai hệ mã/giải mã, một sử dụng AES với CBC mode và một sử dụng AES với counter mode (CTR). Trong cả hai trường hợp, IV đều là 16-byte và được chọn ngẫu nhiên, và được ghép vào bản mã. Với CBC mode sử dụng sơ đồ padding PKCS5."
   ]
  },
  {
   "cell_type": "markdown",
   "metadata": {},
   "source": [
    "#### Hàm xor 2 chuỗi bytes"
   ]
  },
  {
   "cell_type": "code",
   "execution_count": 2,
   "metadata": {},
   "outputs": [],
   "source": [
    "def xor(a, b):\n",
    "\tif len(a) > len(b):\n",
    "\t\treturn bytes([x ^ y for (x, y) in zip(a[:len(b)], b)])\n",
    "\telse:\n",
    "\t\treturn bytes([x ^ y for (x, y) in zip(a, b[:len(a)])])"
   ]
  },
  {
   "cell_type": "markdown",
   "metadata": {},
   "source": [
    "### 1. Hàm mã hóa AES với CBC mode.\n",
    " Tham số:\n",
    " * m: plaintext\n",
    " * k:key (128 bits)"
   ]
  },
  {
   "cell_type": "code",
   "execution_count": 3,
   "metadata": {},
   "outputs": [],
   "source": [
    "def encryptAESwithCBC(m:bytes,k:bytes)->bytes:\n",
    "\t\"\"\"Return AES 128 bit ciphertext value of plaintext m, by key k and initial vector IV in CBC mode\"\"\"\n",
    "\n",
    "\tnBlock=len(m)//16+1\n",
    "\tblocks=[m[i*16:i*16+16] for i in range(nBlock)]\n",
    "\ti=16-len(blocks[nBlock-1])\n",
    "\tif i>0:\n",
    "\t\tblocks[nBlock-1]+=i*bytes([i])\n",
    "\tmode=AES.new(k,AES.MODE_ECB)\n",
    "\tprev=urandom(16)\n",
    "\tc=prev\n",
    "\tfor i in range(nBlock):\n",
    "\t\tprev=mode.encrypt(xor(prev,blocks[i]))\n",
    "\t\tc+=prev\n",
    "\treturn c"
   ]
  },
  {
   "cell_type": "markdown",
   "metadata": {},
   "source": [
    "### 2. Hàm mã hóa AES với CTR mode.\n",
    " Tham số:\n",
    " * m: plaintext\n",
    " * k:key (128 bits)"
   ]
  },
  {
   "cell_type": "code",
   "execution_count": 4,
   "metadata": {},
   "outputs": [],
   "source": [
    "def enryptAESwithCTR(m:bytes,k:bytes)->bytes:\n",
    "\t\"\"\"Return AES 128 bit ciphertext value of plaintext m, by key k and initial vector IV in CTR mode\"\"\"\n",
    "\n",
    "\tmode=AES.new(k,AES.MODE_ECB)\n",
    "\tiv=urandom(16)\n",
    "\tc=iv\n",
    "\ti=0\n",
    "\tj=0\n",
    "\twhile i<len(m):\n",
    "\t\tvector=(int.from_bytes(iv,byteorder='big')+j).to_bytes(16,'big')\n",
    "\t\tc+=xor(m[i:i+16],mode.encrypt(vector))\n",
    "\t\tj+=1\n",
    "\t\ti+=16\n",
    "\treturn c"
   ]
  },
  {
   "cell_type": "markdown",
   "metadata": {},
   "source": [
    "#### Hàm con sử dụng trong giải mã\n",
    "Trả về số phần tử được thêm vào ở phần padding\n",
    "Tham số:\n",
    "* last_block: chuỗi bytes cuối của plaintext sau khi mã hóa (16 bytes)"
   ]
  },
  {
   "cell_type": "code",
   "execution_count": 5,
   "metadata": {},
   "outputs": [],
   "source": [
    "def checkPadding(last_block:bytes)->int:\n",
    "\t\"\"\"Return the number of bytes in padding part\"\"\"\n",
    "\n",
    "\tok=True\n",
    "\tfor i in range(1,17):\n",
    "\t\tfor j in range(i):\n",
    "\t\t\tif last_block[15-j]!=i:\n",
    "\t\t\t\tok=False\n",
    "\t\t\t\tbreak\n",
    "\t\t\tok=True\n",
    "\t\tif ok:\n",
    "\t\t\treturn i\n",
    "\treturn -1"
   ]
  },
  {
   "cell_type": "markdown",
   "metadata": {},
   "source": [
    "### 3. Hàm giải mã AES với CBC mode\n",
    "Tham số:\n",
    "* c: ciphertext\n",
    "* k: key (128 bits)"
   ]
  },
  {
   "cell_type": "code",
   "execution_count": 6,
   "metadata": {},
   "outputs": [],
   "source": [
    "def decryptAESwithCBC(c:bytes,k:bytes)->bytes:\n",
    "\t\"\"\"Return AES 128 bit decrypted value of ciphertext c, by key k in CBC mode\"\"\"\n",
    "\n",
    "\tIV=c[:16]\n",
    "\tnBlock=len(c)//16-1\n",
    "\tblocks=[c[i*16+16:i*16+32] for i in range(nBlock)]\n",
    "\tmode=AES.new(k,AES.MODE_ECB)\n",
    "\tprev=IV\n",
    "\tm=b''\n",
    "\tfor i in range(0,nBlock):\n",
    "\t\tcurr=mode.decrypt(blocks[i])\n",
    "\t\tm+=xor(prev,curr)\n",
    "\t\tprev=blocks[i]\n",
    "\tnPadding=checkPadding(m[len(m)-16:])\n",
    "\tif nPadding==-1:\n",
    "\t\tprint(\"Error!\")\n",
    "\t\treturn -1\n",
    "\telse:\n",
    "\t\treturn m[:len(m)-nPadding]"
   ]
  },
  {
   "cell_type": "markdown",
   "metadata": {},
   "source": [
    "### 4. Hàm giải mã AES với CTR mode\n",
    "Tham số:\n",
    "* c: ciphertext\n",
    "* k: key (128 bits)"
   ]
  },
  {
   "cell_type": "code",
   "execution_count": 7,
   "metadata": {},
   "outputs": [],
   "source": [
    "def decryptAESwithCTR(c:bytes,k:bytes)->bytes:\n",
    "\t\"\"\"Return AES 128 bit decrypted value of cipher text c, by key k in CTR mode\"\"\"\n",
    "\n",
    "\tIV=c[:16]\n",
    "\tmode=AES.new(k,AES.MODE_ECB)\n",
    "\tm=b''\n",
    "\ti=16\n",
    "\tj=0\n",
    "\twhile i<len(c):\n",
    "\t\tvector=(int.from_bytes(IV,byteorder='big')+j).to_bytes(16,'big')\n",
    "\t\tm+=xor(c[i:i+16],mode.encrypt(vector))\n",
    "\t\tj+=1\n",
    "\t\ti+=16\n",
    "\treturn m"
   ]
  },
  {
   "cell_type": "markdown",
   "metadata": {},
   "source": [
    "## Sử dụng hàm giải mã vừa cài đặt để giải mã"
   ]
  },
  {
   "cell_type": "markdown",
   "metadata": {},
   "source": [
    "Ciphertext và key tương ứng:"
   ]
  },
  {
   "cell_type": "code",
   "execution_count": 8,
   "metadata": {},
   "outputs": [],
   "source": [
    "c1=bytes.fromhex(\"4ca00ff4c898d61e1edbf1800618fb2828a226d160dad07883d04e008a7897ee2e4b7465d5290d0c0e6c6822236e1daafb94ffe0c5da05d9476be028ad7c1d81\")\n",
    "k1=bytes.fromhex(\"140b41b22a29beb4061bda66b6747e14\")\n",
    "c2=bytes.fromhex(\"5b68629feb8606f9a6667670b75b38a5b4832d0f26e1ab7da33249de7d4afc48e713ac646ace36e872ad5fb8a512428a6e21364b0c374df45503473c5242a253\")\n",
    "k2=bytes.fromhex(\"140b41b22a29beb4061bda66b6747e14\")\n",
    "c3=bytes.fromhex(\"69dda8455c7dd4254bf353b773304eec0ec7702330098ce7f7520d1cbbb20fc388d1b0adb5054dbd7370849dbf0b88d393f252e764f1f5f7ad97ef79d59ce29f5f51eeca32eabedd9afa9329\")\n",
    "k3=bytes.fromhex(\"36f18357be4dbd77f050515c73fcf9f2\")\n",
    "c4=bytes.fromhex(\"770b80259ec33beb2561358a9f2dc617e46218c0a53cbeca695ae45faa8952aa0e311bde9d4e01726d3184c34451\")\n",
    "k4=bytes.fromhex(\"36f18357be4dbd77f050515c73fcf9f2\")"
   ]
  },
  {
   "cell_type": "markdown",
   "metadata": {},
   "source": [
    "#### Sử dụng hàm vừa cài đặt để giải mã:"
   ]
  },
  {
   "cell_type": "code",
   "execution_count": 9,
   "metadata": {},
   "outputs": [
    {
     "name": "stdout",
     "output_type": "stream",
     "text": [
      "b'Basic CBC mode encryption needs padding.'\n",
      "b'Our implementation uses rand. IV'\n",
      "b'CTR mode lets you build a stream cipher from a block cipher.'\n",
      "b'Always avoid the two time pad!'\n"
     ]
    }
   ],
   "source": [
    "m1=decryptAESwithCBC(c1,k1)\n",
    "print(m1)\n",
    "m2=decryptAESwithCBC(c2,k2)\n",
    "print(m2)\n",
    "m3=decryptAESwithCTR(c3,k3)\n",
    "print(m3)\n",
    "m4=decryptAESwithCTR(c4,k4)\n",
    "print(m4)"
   ]
  },
  {
   "cell_type": "markdown",
   "metadata": {},
   "source": [
    "**_Giải mã trả về thông điệp có ý nghĩa._**"
   ]
  }
 ],
 "metadata": {
  "kernelspec": {
   "display_name": "Python 3",
   "language": "python",
   "name": "python3"
  },
  "language_info": {
   "codemirror_mode": {
    "name": "ipython",
    "version": 3
   },
   "file_extension": ".py",
   "mimetype": "text/x-python",
   "name": "python",
   "nbconvert_exporter": "python",
   "pygments_lexer": "ipython3",
   "version": "3.7.3"
  }
 },
 "nbformat": 4,
 "nbformat_minor": 2
}
