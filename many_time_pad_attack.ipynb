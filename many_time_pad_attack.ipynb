{
 "cells": [
  {
   "cell_type": "markdown",
   "metadata": {},
   "source": [
    "Nguyễn Hồng Đăng 20160988."
   ]
  },
  {
   "cell_type": "markdown",
   "metadata": {},
   "source": [
    "Đoạn python3 script tấn công many-time-pad"
   ]
  },
  {
   "cell_type": "code",
   "execution_count": 1,
   "metadata": {},
   "outputs": [],
   "source": [
    "#! usr/bin/env python3\n",
    "import string"
   ]
  },
  {
   "cell_type": "markdown",
   "metadata": {},
   "source": [
    "Define hàm thực hiện xor 2 đoạn byte với nhau"
   ]
  },
  {
   "cell_type": "code",
   "execution_count": 2,
   "metadata": {},
   "outputs": [],
   "source": [
    "def strxor(a, b):     # xor two strings of different lengths\n",
    "    if len(a) > len(b):\n",
    "        return bytes([x ^ y for (x, y) in zip(a[:len(b)], b)])\n",
    "    else:\n",
    "        return bytes([x ^ y for (x, y) in zip(a, b[:len(a)])])"
   ]
  },
  {
   "cell_type": "markdown",
   "metadata": {},
   "source": [
    "Các khối ciphertext đã cung cấp, gồm 10 cipher text và 1 target cipher cần giải mã"
   ]
  },
  {
   "cell_type": "code",
   "execution_count": 3,
   "metadata": {},
   "outputs": [],
   "source": [
    "c1 = bytes.fromhex(\"315c4eeaa8b5f8aaf9174145bf43e1784b8fa00dc71d885a804e5ee9fa40b16349c146fb778cdf2d3aff021dfff5b403b510d0d0455468aeb98622b137dae857553ccd8883a7bc37520e06e515d22c954eba5025b8cc57ee59418ce7dc6bc41556bdb36bbca3e8774301fbcaa3b83b220809560987815f65286764703de0f3d524400a19b159610b11ef3e\")\n",
    "c2 = bytes.fromhex(\"234c02ecbbfbafa3ed18510abd11fa724fcda2018a1a8342cf064bbde548b12b07df44ba7191d9606ef4081ffde5ad46a5069d9f7f543bedb9c861bf29c7e205132eda9382b0bc2c5c4b45f919cf3a9f1cb74151f6d551f4480c82b2cb24cc5b028aa76eb7b4ab24171ab3cdadb8356f\")\n",
    "c3 = bytes.fromhex(\"32510ba9a7b2bba9b8005d43a304b5714cc0bb0c8a34884dd91304b8ad40b62b07df44ba6e9d8a2368e51d04e0e7b207b70b9b8261112bacb6c866a232dfe257527dc29398f5f3251a0d47e503c66e935de81230b59b7afb5f41afa8d661cb\")\n",
    "c4 = bytes.fromhex(\"32510ba9aab2a8a4fd06414fb517b5605cc0aa0dc91a8908c2064ba8ad5ea06a029056f47a8ad3306ef5021eafe1ac01a81197847a5c68a1b78769a37bc8f4575432c198ccb4ef63590256e305cd3a9544ee4160ead45aef520489e7da7d835402bca670bda8eb775200b8dabbba246b130f040d8ec6447e2c767f3d30ed81ea2e4c1404e1315a1010e7229be6636aaa\")\n",
    "c5 = bytes.fromhex(\"3f561ba9adb4b6ebec54424ba317b564418fac0dd35f8c08d31a1fe9e24fe56808c213f17c81d9607cee021dafe1e001b21ade877a5e68bea88d61b93ac5ee0d562e8e9582f5ef375f0a4ae20ed86e935de81230b59b73fb4302cd95d770c65b40aaa065f2a5e33a5a0bb5dcaba43722130f042f8ec85b7c2070\")\n",
    "c6 = bytes.fromhex(\"32510bfbacfbb9befd54415da243e1695ecabd58c519cd4bd2061bbde24eb76a19d84aba34d8de287be84d07e7e9a30ee714979c7e1123a8bd9822a33ecaf512472e8e8f8db3f9635c1949e640c621854eba0d79eccf52ff111284b4cc61d11902aebc66f2b2e436434eacc0aba938220b084800c2ca4e693522643573b2c4ce35050b0cf774201f0fe52ac9f26d71b6cf61a711cc229f77ace7aa88a2f19983122b11be87a59c355d25f8e4\")\n",
    "c7 = bytes.fromhex(\"32510bfbacfbb9befd54415da243e1695ecabd58c519cd4bd90f1fa6ea5ba47b01c909ba7696cf606ef40c04afe1ac0aa8148dd066592ded9f8774b529c7ea125d298e8883f5e9305f4b44f915cb2bd05af51373fd9b4af511039fa2d96f83414aaaf261bda2e97b170fb5cce2a53e675c154c0d9681596934777e2275b381ce2e40582afe67650b13e72287ff2270abcf73bb028932836fbdecfecee0a3b894473c1bbeb6b4913a536ce4f9b13f1efff71ea313c8661dd9a4ce\")\n",
    "c8 = bytes.fromhex(\"315c4eeaa8b5f8bffd11155ea506b56041c6a00c8a08854dd21a4bbde54ce56801d943ba708b8a3574f40c00fff9e00fa1439fd0654327a3bfc860b92f89ee04132ecb9298f5fd2d5e4b45e40ecc3b9d59e9417df7c95bba410e9aa2ca24c5474da2f276baa3ac325918b2daada43d6712150441c2e04f6565517f317da9d3\")\n",
    "c9 = bytes.fromhex(\"271946f9bbb2aeadec111841a81abc300ecaa01bd8069d5cc91005e9fe4aad6e04d513e96d99de2569bc5e50eeeca709b50a8a987f4264edb6896fb537d0a716132ddc938fb0f836480e06ed0fcd6e9759f40462f9cf57f4564186a2c1778f1543efa270bda5e933421cbe88a4a52222190f471e9bd15f652b653b7071aec59a2705081ffe72651d08f822c9ed6d76e48b63ab15d0208573a7eef027\")\n",
    "c10 = bytes.fromhex(\"466d06ece998b7a2fb1d464fed2ced7641ddaa3cc31c9941cf110abbf409ed39598005b3399ccfafb61d0315fca0a314be138a9f32503bedac8067f03adbf3575c3b8edc9ba7f537530541ab0f9f3cd04ff50d66f1d559ba520e89a2cb2a83\")\n",
    "cipherlist = [c1, c2, c3, c4, c5, c6, c7, c8, c9, c10]\n",
    "target_cipher = bytes.fromhex(\"32510ba9babebbbefd001547a810e67149caee11d945cd7fc81a05e9f85aac650e9052ba6a8cd8257bf14d13e6f0a803b54fde9e77472dbff89d71b57bddef121336cb85ccb8f3315f4b52e301d16e9f52f904\")"
   ]
  },
  {
   "cell_type": "markdown",
   "metadata": {},
   "source": [
    "Khởi tạo khóa và danh sách vị trí đã đoán được khóa."
   ]
  },
  {
   "cell_type": "code",
   "execution_count": 4,
   "metadata": {},
   "outputs": [],
   "source": [
    "final_key = [None]*200\n",
    "known_key_positions = set()"
   ]
  },
  {
   "cell_type": "markdown",
   "metadata": {},
   "source": [
    "# Nhận xét:\n",
    "##### 1.  Giả sử c1=E(k,m1) và c2=E(k,m2) trong đó k là phép xor theo byte. Khi đó c1 xor c2 =(k xor m1) xor (k xor m2)=m1 xor m2\n",
    "##### 2. Khi đem xor 1 chữ cái thường/ hoa với 0x20 (kí tự cách- space), ta thu được 1 chữ cái hoa/ thường. \n",
    "##### 3. Khi xor 2 byte với nhau, khả năng thấp sẽ cho ra 1 byte là biểu diễn của 1 chữ cái in hoa/ thường.\n",
    "#### => Do đó giả sử kết quả của việc xor 2 byte trong cipher text là 1 chữ cái, thì khả năng cao 2 byte ở vị trí tương ứng trong plain text, chứa 1 byte là space, 1 byte là chữ cái.\n",
    "#### *Ví dụ:*\n",
    "'a' xor b'0x20'=='A'\n",
    "'Z' xor b'0x20'=='z'\n",
    "\n",
    "Với mỗi phần tử **ciphertext1** trong cipherlist, ta xor chúng với 1 phần tử **ciphertext2** khác cũng trong cipherlist\n",
    "Nếu như bắt gặp kết quả là 1 chữ cái, ta thêm (+1) lần nghi ngờ rằng vị trí tương ứng trong plaintext tương ứng trong **ciphertext1** là space"
   ]
  },
  {
   "cell_type": "code",
   "execution_count": 5,
   "metadata": {
    "scrolled": true
   },
   "outputs": [
    {
     "name": "stdout",
     "output_type": "stream",
     "text": [
      "[2, 6, 13, 17, 24, 27, 32, 40, 50, 51, 58, 70, 74, 81, 84, 89, 91, 106]\n",
      "[5, 11, 20, 31, 47, 57, 64, 70, 73, 80, 93]\n",
      "[3, 8, 20, 28, 31, 38, 53, 57, 65, 72, 78, 83, 85, 89]\n",
      "[3, 23, 28, 33, 44, 60, 68, 71, 91]\n",
      "[3, 7, 9, 17, 21, 23, 27, 30, 44, 46, 50, 78, 83, 85, 90]\n",
      "[5, 9, 13, 19, 22, 36, 37, 42, 48, 53, 58, 71, 76, 81, 88, 105]\n",
      "[5, 9, 13, 19, 22, 44, 51, 73, 79, 85, 88, 108]\n",
      "[2, 6, 10, 20, 30, 38, 46, 49, 51, 57, 61, 64, 73, 87, 93]\n",
      "[1, 10, 15, 16, 27, 41, 43, 62, 64, 74, 78, 89, 97, 107]\n",
      "[0, 4, 12, 29, 31, 36, 45, 52, 59, 67, 75, 77, 79, 87]\n",
      "Known key's position:\n",
      " {0, 1, 2, 3, 4, 5, 6, 7, 8, 9, 10, 11, 12, 13, 15, 16, 17, 19, 20, 21, 22, 23, 24, 27, 28, 29, 30, 31, 32, 33, 36, 37, 38, 40, 41, 42, 43, 44, 45, 46, 47, 48, 49, 50, 51, 52, 53, 57, 58, 59, 60, 61, 62, 64, 65, 67, 68, 70, 71, 72, 73, 74, 75, 76, 77, 78, 79, 80, 81, 83, 84, 85, 87, 88, 89, 90, 91, 93, 97, 105, 106, 107, 108}\n"
     ]
    }
   ],
   "source": [
    "for index1, ciphertext1 in enumerate(cipherlist):\n",
    "    #dictionary chứa ánh xạ vị trí-số lần nghi ngờ space ở vị trí đó(số lần nghi ngờ càng cao, xác suất\n",
    "    # space ở vị trí đó trong plaintext càng cao.\n",
    "    counter = {i: 0 for i in range(len(ciphertext1))}\n",
    "    for index2, ciphertext2 in enumerate(cipherlist):\n",
    "        if index1 != index2:\n",
    "            for char_index, char in enumerate(strxor(ciphertext1, ciphertext2)):\n",
    "                if char in range(65,91) or char in range(97,123):\n",
    "                    counter[char_index] +=1\n",
    "    #Các vị trí có số lần nghi ngờ >=7/9; ta có thể tạm kết luận đó chính là vị trí của space trong plaintext.\n",
    "    #Ta lưu các vị trí này vào 1 list\n",
    "    knownSpaceIndexes = []\n",
    "    for ind, val in counter.items():\n",
    "        if val >= 7: knownSpaceIndexes.append(ind)\n",
    "    print(knownSpaceIndexes)\n",
    "    for i in knownSpaceIndexes:\n",
    "        final_key[i] = ciphertext1[i]^0x20\n",
    "        # Đánh dấu đã biết khóa tại vị trí này\n",
    "        known_key_positions.add(i)\n",
    "print(\"Known key's position:\\n\",known_key_positions)"
   ]
  },
  {
   "cell_type": "markdown",
   "metadata": {},
   "source": [
    "Key ta đã dự đoán được gần như toàn bộ. Ta thử tìm plaintext bằng cách xor khóa vừa dự đoán được với target cipher"
   ]
  },
  {
   "cell_type": "code",
   "execution_count": 6,
   "metadata": {},
   "outputs": [
    {
     "name": "stdout",
     "output_type": "stream",
     "text": [
      "b'The secuet-mes*age*is: Wh** usi|g **str*am cipher, nev***use th* k*y *ore than onc*'\n"
     ]
    }
   ],
   "source": [
    "final_key = bytes([val if val is not None else 0 for val in final_key])\n",
    "#Output dự đoán được, không hoàn toàn chính xác\n",
    "output = strxor(target_cipher,final_key)\n",
    "#Thay các vị trí chưa biết khóa bởi * để kết quả dễ nhìn\n",
    "print(bytes([char if index2 in known_key_positions else ord('*') for index2, char in enumerate(output)]))"
   ]
  },
  {
   "cell_type": "markdown",
   "metadata": {},
   "source": [
    " **Dễ thấy, thông điệp plaintext là:**\n",
    "### *\"The secret message is: When using a stream cipher, never use the key more than once\"*"
   ]
  }
 ],
 "metadata": {
  "kernelspec": {
   "display_name": "Python 3",
   "language": "python",
   "name": "python3"
  },
  "language_info": {
   "codemirror_mode": {
    "name": "ipython",
    "version": 3
   },
   "file_extension": ".py",
   "mimetype": "text/x-python",
   "name": "python",
   "nbconvert_exporter": "python",
   "pygments_lexer": "ipython3",
   "version": "3.7.1"
  }
 },
 "nbformat": 4,
 "nbformat_minor": 2
}
