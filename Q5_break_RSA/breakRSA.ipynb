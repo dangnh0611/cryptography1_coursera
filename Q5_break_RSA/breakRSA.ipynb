{
 "cells": [
  {
   "cell_type": "markdown",
   "metadata": {},
   "source": [
    "# Bài tập lập trình 5: break RSA  \n",
    "*Nguyễn Hồng Đăng 20160988*"
   ]
  },
  {
   "cell_type": "code",
   "execution_count": 1,
   "metadata": {},
   "outputs": [],
   "source": [
    "#!/usr/bin/env python3\n",
    "import gmpy2\n",
    "from gmpy2 import mpz"
   ]
  },
  {
   "cell_type": "markdown",
   "metadata": {},
   "source": [
    "## Question 1:"
   ]
  },
  {
   "cell_type": "code",
   "execution_count": 2,
   "metadata": {},
   "outputs": [
    {
     "name": "stdout",
     "output_type": "stream",
     "text": [
      "\n",
      "Question 1:\n"
     ]
    }
   ],
   "source": [
    "print('\\nQuestion 1:')\n",
    "n1=mpz('17976931348623159077293051907890247336179769789423065727343008115 \\\n",
    "77326758055056206869853794492129829595855013875371640157101398586 \\\n",
    "47833778606925583497541085196591615128057575940752635007475935288 \\\n",
    "71082364994994077189561705436114947486504671101510156394068052754 \\\n",
    "0071584560878577663743040086340742855278549092581')"
   ]
  },
  {
   "cell_type": "markdown",
   "metadata": {},
   "source": [
    "Tính x theo gợi ý"
   ]
  },
  {
   "cell_type": "code",
   "execution_count": 3,
   "metadata": {},
   "outputs": [
    {
     "name": "stdout",
     "output_type": "stream",
     "text": [
      "57896044618658097711785492504343953926634992332820282019728792003956564819990\t0\n"
     ]
    }
   ],
   "source": [
    "a=gmpy2.isqrt(n1)+1\n",
    "temp=gmpy2.sub(gmpy2.mul(a,a),n1)\n",
    "x,remain=gmpy2.isqrt_rem(temp)\n",
    "print(x,remain,sep='\\t')"
   ]
  },
  {
   "cell_type": "markdown",
   "metadata": {},
   "source": [
    "### Kết quả:"
   ]
  },
  {
   "cell_type": "code",
   "execution_count": 4,
   "metadata": {},
   "outputs": [
    {
     "name": "stdout",
     "output_type": "stream",
     "text": [
      "p is:\n",
      "13407807929942597099574024998205846127479365820592393377723561443721764030073662768891111614362326998675040546094339320838419523375986027530441562135724301\n"
     ]
    }
   ],
   "source": [
    "p=gmpy2.sub(a,x)\n",
    "q=gmpy2.add(a,x)\n",
    "print('p is:',p,sep='\\n')"
   ]
  },
  {
   "cell_type": "markdown",
   "metadata": {},
   "source": [
    "Lưu giá trị p,q cho question 3"
   ]
  },
  {
   "cell_type": "code",
   "execution_count": 5,
   "metadata": {},
   "outputs": [],
   "source": [
    "q3_factorization=(p,q)"
   ]
  },
  {
   "cell_type": "markdown",
   "metadata": {},
   "source": [
    "## Question 2:"
   ]
  },
  {
   "cell_type": "code",
   "execution_count": 6,
   "metadata": {},
   "outputs": [
    {
     "name": "stdout",
     "output_type": "stream",
     "text": [
      "\n",
      "Question 2:\n"
     ]
    }
   ],
   "source": [
    "print('\\nQuestion 2:')\n",
    "n2=mpz('6484558428080716696628242653467722787263437207069762630604390703787 \\\n",
    "9730861808111646271401527606141756919558732184025452065542490671989 \\\n",
    "2428844841839353281972988531310511738648965962582821502504990264452 \\\n",
    "1008852816733037111422964210278402893076574586452336833570778346897 \\\n",
    "15838646088239640236866252211790085787877')"
   ]
  },
  {
   "cell_type": "markdown",
   "metadata": {},
   "source": [
    "Lặp cho tới khi tìm được x thỏa mãn"
   ]
  },
  {
   "cell_type": "code",
   "execution_count": 7,
   "metadata": {},
   "outputs": [],
   "source": [
    "for i in range(1,2**20):\n",
    "    a=gmpy2.isqrt(n2)+i\n",
    "    temp=gmpy2.sub(gmpy2.mul(a,a),n2)\n",
    "    x,remain=gmpy2.isqrt_rem(temp)\n",
    "    if remain==0:\n",
    "        break\n",
    "p=gmpy2.sub(a,x)\n",
    "q=gmpy2.add(a,x)"
   ]
  },
  {
   "cell_type": "markdown",
   "metadata": {},
   "source": [
    "### Kết quả:"
   ]
  },
  {
   "cell_type": "code",
   "execution_count": 8,
   "metadata": {},
   "outputs": [
    {
     "name": "stdout",
     "output_type": "stream",
     "text": [
      "Sucessfully after iterations number 72078\n",
      "p is:\n",
      "25464796146996183438008816563973942229341454268524157846328581927885777969985222835143851073249573454107384461557193173304497244814071505790566593206419759\n"
     ]
    }
   ],
   "source": [
    "print('Sucessfully after iterations number',i)\n",
    "print('p is:',p,sep='\\n')"
   ]
  },
  {
   "cell_type": "markdown",
   "metadata": {},
   "source": [
    "## Question 3:"
   ]
  },
  {
   "cell_type": "code",
   "execution_count": 9,
   "metadata": {},
   "outputs": [
    {
     "name": "stdout",
     "output_type": "stream",
     "text": [
      "\n",
      "Question 3:\n"
     ]
    }
   ],
   "source": [
    "print('\\nQuestion 3:')\n",
    "n3=mpz('72006226374735042527956443552558373833808445147399984182665305798191 \\\n",
    "63556901883377904234086641876639384851752649940178970835240791356868 \\\n",
    "77441155132015188279331812309091996246361896836573643119174094961348 \\\n",
    "52463970788523879939683923036467667022162701835329944324119217381272 \\\n",
    "9276147530748597302192751375739387929')"
   ]
  },
  {
   "cell_type": "markdown",
   "metadata": {},
   "source": [
    "Đặt A=3p+2q và x=3p-2q  \n",
    "#### Nhận xét:\n",
    "- Chứng minh tương tự gợi ý, ta được A=2* ceil(sqrt(6*N))+1. Từ đó tính được A\n",
    "- (A+x)(A-x)=24pq=24N nên |x|=sqrt(A^2-24N). Từ đó tính được |x|\n",
    "Từ A và x, tính được p và q. Cần chú ý rằng x có thể âm.\n",
    "### Kết quả:"
   ]
  },
  {
   "cell_type": "code",
   "execution_count": 10,
   "metadata": {},
   "outputs": [
    {
     "name": "stdout",
     "output_type": "stream",
     "text": [
      "29937488325277035985647869727266332961196212044687794049188971402505125628535\t0\n",
      "3p-2q is negative\n",
      "0\n",
      "p is:\n",
      "21909849592475533092273988531583955898982176093344929030099423584127212078126150044721102570957812665127475051465088833555993294644190955293613411658629209\n"
     ]
    }
   ],
   "source": [
    "a=2*gmpy2.isqrt(6*n3)+1\n",
    "temp=gmpy2.sub(gmpy2.mul(a,a),24*n3)\n",
    "x,remain=gmpy2.isqrt_rem(temp)\n",
    "print(x,remain,sep='\\t')\n",
    "p,r=gmpy2.t_divmod(gmpy2.add(a,x),6)\n",
    "if r!=0:\n",
    "    print('3p-2q is negative')\n",
    "    p,r=gmpy2.t_divmod(gmpy2.sub(a,x),6)\n",
    "    print(r)\n",
    "print('p is:',p,sep='\\n')"
   ]
  },
  {
   "cell_type": "markdown",
   "metadata": {},
   "source": [
    "## Question 4:"
   ]
  },
  {
   "cell_type": "code",
   "execution_count": 11,
   "metadata": {},
   "outputs": [
    {
     "name": "stdout",
     "output_type": "stream",
     "text": [
      "\n",
      "Question 4:\n"
     ]
    }
   ],
   "source": [
    "print('\\nQuestion 4:')\n",
    "cipher=mpz('22096451867410381776306561134883418017410069787892831071731839143676135600120 \\\n",
    "53800428232965047350942434394621975151225646583996794288946076454204058156474 \\\n",
    "89880137348641204523252293201764879166664029975091887299716905260832220677716 \\\n",
    "00019329260870009579993724077458967773697817571267229951148662959627934791540')"
   ]
  },
  {
   "cell_type": "markdown",
   "metadata": {},
   "source": [
    "RSA sử dụng modulus N ở question 1, Encryption exponent e=65537"
   ]
  },
  {
   "cell_type": "code",
   "execution_count": 12,
   "metadata": {},
   "outputs": [],
   "source": [
    "p,q=q3_factorization\n",
    "e=mpz('65537')\n",
    "fi=gmpy2.mul(p-1,q-1)"
   ]
  },
  {
   "cell_type": "markdown",
   "metadata": {},
   "source": [
    "Tìm (g,d,t) thỏa mãn e*d=1 (mod fi), hay g=e*d+fi* t (Trong đó g=1)"
   ]
  },
  {
   "cell_type": "code",
   "execution_count": 13,
   "metadata": {},
   "outputs": [
    {
     "name": "stdout",
     "output_type": "stream",
     "text": [
      "1\n",
      "15901287978999413029444103622387317669077639420371013629157181141513592652158568184727012903658813528491037910547521854815931164999641308185976587386289355866678615944319681939473842195092207377098269996346353744109549011306581302639353136684586796229221071755410527734011645528084075140176976118813890397473\n"
     ]
    }
   ],
   "source": [
    "g,d,t=gmpy2.gcdext(e,fi)\n",
    "print(g,d,sep='\\n')"
   ]
  },
  {
   "cell_type": "markdown",
   "metadata": {},
   "source": [
    "RSA Decryption sử dụng d tìm được ở trên"
   ]
  },
  {
   "cell_type": "code",
   "execution_count": 14,
   "metadata": {},
   "outputs": [
    {
     "name": "stdout",
     "output_type": "stream",
     "text": [
      "bytearray(b\".ASR kaerb su stel gnirotcaF\\x00m\\xe4\\xda\\xe1$\\xb0\\x98\\\\\\xb5-]\\x93\\x9e\\xcb\\xa7\\xe1q\\xfe9\\x82\\x18\\xed\\x90Av&+\\xb6\\xd5i\\xb6,%s\\x0f\\x1a\\t\\x0ed\\xb4/\\xab\\x10\\xe8%is\\x9f\\xa2P\\xeb\\xf9zW~\\xea u8\\x9d\\x97\\xafM-\\t\\x9a\\x959\\'N\\xc6\\xd0\\x92\\x13\\x11\\x17\\x98\\x1es\\x03\\x96\\xf0C\\xf6\\xbb]\\x1d\\xe5\\x94\\x053$\\xb5\\x10v\\x90\\x05\\x08\\x02\")\n"
     ]
    }
   ],
   "source": [
    "plain=gmpy2.powmod(cipher,d,n1)\n",
    "#2 bytes đầu chứa thông tin của mpz object, lọai bỏ\n",
    "plain_hex=bytearray(gmpy2.to_binary(plain)[2:])\n",
    "print(plain_hex)"
   ]
  },
  {
   "cell_type": "markdown",
   "metadata": {},
   "source": [
    "Sửa lại thứ tự các bytes\n",
    "### Kết quả:"
   ]
  },
  {
   "cell_type": "code",
   "execution_count": 15,
   "metadata": {},
   "outputs": [
    {
     "name": "stdout",
     "output_type": "stream",
     "text": [
      "bytearray(b\"\\x02\\x08\\x05\\x90v\\x10\\xb5$3\\x05\\x94\\xe5\\x1d]\\xbb\\xf6C\\xf0\\x96\\x03s\\x1e\\x98\\x17\\x11\\x13\\x92\\xd0\\xc6N\\'9\\x95\\x9a\\t-M\\xaf\\x97\\x9d8u \\xea~Wz\\xf9\\xebP\\xa2\\x9fsi%\\xe8\\x10\\xab/\\xb4d\\x0e\\t\\x1a\\x0fs%,\\xb6i\\xd5\\xb6+&vA\\x90\\xed\\x18\\x829\\xfeq\\xe1\\xa7\\xcb\\x9e\\x93]-\\xb5\\\\\\x98\\xb0$\\xe1\\xda\\xe4m\\x00Factoring lets us break RSA.\")\n"
     ]
    }
   ],
   "source": [
    "plain_hex.reverse()\n",
    "print(plain_hex)"
   ]
  },
  {
   "cell_type": "markdown",
   "metadata": {},
   "source": [
    "**Kết quả là:**  \n",
    "*\"Factoring lets us break RSA.\"*"
   ]
  }
 ],
 "metadata": {
  "kernelspec": {
   "display_name": "Python 3",
   "language": "python",
   "name": "python3"
  },
  "language_info": {
   "codemirror_mode": {
    "name": "ipython",
    "version": 3
   },
   "file_extension": ".py",
   "mimetype": "text/x-python",
   "name": "python",
   "nbconvert_exporter": "python",
   "pygments_lexer": "ipython3",
   "version": "3.7.3"
  }
 },
 "nbformat": 4,
 "nbformat_minor": 2
}
